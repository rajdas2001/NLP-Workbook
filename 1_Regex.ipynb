{
  "cells": [
    {
      "cell_type": "markdown",
      "metadata": {
        "id": "view-in-github",
        "colab_type": "text"
      },
      "source": [
        "<a href=\"https://colab.research.google.com/github/rajdas2001/NLP-Workbook/blob/main/1_Regex.ipynb\" target=\"_parent\"><img src=\"https://colab.research.google.com/assets/colab-badge.svg\" alt=\"Open In Colab\"/></a>"
      ]
    },
    {
      "cell_type": "code",
      "source": [
        "#https://regex101.com/"
      ],
      "metadata": {
        "id": "F9UBC_Svy5ne"
      },
      "execution_count": null,
      "outputs": []
    },
    {
      "cell_type": "code",
      "source": [
        "import re\n",
        "\n",
        "chat1 = \"My phone number is 8937216573\"\n",
        "pattern = \"\\d{10}\"\n",
        "matches = re.findall(pattern,chat1)\n",
        "print(matches)"
      ],
      "metadata": {
        "colab": {
          "base_uri": "https://localhost:8080/"
        },
        "id": "RtR4FIrpqlhL",
        "outputId": "6175ae69-5884-4ab1-f4ab-1d273b9fcc5e"
      },
      "execution_count": 1,
      "outputs": [
        {
          "output_type": "stream",
          "name": "stdout",
          "text": [
            "['8937216573']\n"
          ]
        }
      ]
    },
    {
      "cell_type": "code",
      "source": [
        "chat2 = \"My phone number is (123)-788-9678\"\n",
        "pattern = \"\\(\\d{3}\\)-\\d{3}-\\d{4}\"\n",
        "matches = re.findall(pattern,chat2)\n",
        "print(matches)"
      ],
      "metadata": {
        "colab": {
          "base_uri": "https://localhost:8080/"
        },
        "id": "3GXQGz9Qrvjf",
        "outputId": "3723034f-d38f-46f4-aadf-3da5d1211b8d"
      },
      "execution_count": 2,
      "outputs": [
        {
          "output_type": "stream",
          "name": "stdout",
          "text": [
            "['(123)-788-9678']\n"
          ]
        }
      ]
    },
    {
      "cell_type": "code",
      "source": [
        "chat3 = \"My phone number is 1000000000 and my wife's phone number is (123)-456-7890\"\n",
        "pattern = \"\\d{10} | \\(\\d{3}\\)-\\d{3}-\\d{4}\"\n",
        "matches = re.findall(pattern,chat3)\n",
        "print(matches)"
      ],
      "metadata": {
        "colab": {
          "base_uri": "https://localhost:8080/"
        },
        "id": "Je1tvNj0tgfl",
        "outputId": "55c4d76d-02ce-4699-e056-a283e80ab679"
      },
      "execution_count": 3,
      "outputs": [
        {
          "output_type": "stream",
          "name": "stdout",
          "text": [
            "['1000000000 ', ' (123)-456-7890']\n"
          ]
        }
      ]
    },
    {
      "cell_type": "code",
      "source": [
        "chat4 = \"My email is raj.das@gmail.com\"\n",
        "pattern = \"[a-z0-9A-Z_.]*@[a-zA-Z]*\"\n",
        "matches = re.findall(pattern,chat4)\n",
        "print(matches)"
      ],
      "metadata": {
        "colab": {
          "base_uri": "https://localhost:8080/"
        },
        "id": "X9B2g4IguLeq",
        "outputId": "9a2a0ba3-9c04-4e80-90dc-9ed04d02f1c6"
      },
      "execution_count": 4,
      "outputs": [
        {
          "output_type": "stream",
          "name": "stdout",
          "text": [
            "['raj.das@gmail']\n"
          ]
        }
      ]
    },
    {
      "cell_type": "code",
      "source": [
        "#group\n",
        "chat5 = \"My order number is 567223\"\n",
        "chat6 = \"I have a problem with my order number 12256\"\n",
        "chat7 = \"I have a problem with order #199029\"\n",
        "chat8 = \"I have a problem with order 23556\"\n",
        "chat9 = \"I have a problem with order23556\"\n",
        "\n",
        "\n",
        "pattern = \"order[^\\d]*(\\d*)\"\n",
        "matches = re.findall(pattern,chat5)\n",
        "print(matches)\n",
        "\n",
        "matches = re.findall(pattern,chat6)\n",
        "print(matches)\n",
        "\n",
        "matches = re.findall(pattern,chat7)\n",
        "print(matches)\n",
        "\n",
        "matches = re.findall(pattern,chat8)\n",
        "print(matches)\n",
        "\n",
        "matches = re.findall(pattern,chat9)\n",
        "print(matches)"
      ],
      "metadata": {
        "colab": {
          "base_uri": "https://localhost:8080/"
        },
        "id": "wk6qIkuOw4PM",
        "outputId": "eec2436e-5cc2-4188-b49b-3b4ee2d100fe"
      },
      "execution_count": 5,
      "outputs": [
        {
          "output_type": "stream",
          "name": "stdout",
          "text": [
            "['567223']\n",
            "['12256']\n",
            "['199029']\n",
            "['23556']\n",
            "['23556']\n"
          ]
        }
      ]
    },
    {
      "cell_type": "code",
      "source": [
        "text='''\n",
        "Born\tElon Reeve Musk\n",
        "June 28, 1971 (age 50)\n",
        "Pretoria, Transvaal, South Africa\n",
        "Citizenship\n",
        "South Africa (1971–present)\n",
        "Canada (1971–present)\n",
        "United States (2002–present)\n",
        "Education\tUniversity of Pennsylvania (BS, BA)\n",
        "Title\n",
        "Founder, CEO and Chief Engineer of SpaceX\n",
        "CEO and product architect of Tesla, Inc.\n",
        "Founder of The Boring Company and X.com (now part of PayPal)\n",
        "Co-founder of Neuralink, OpenAI, and Zip2\n",
        "Spouse(s)\n",
        "Justine Wilson\n",
        "​\n",
        "​(m. 2000; div. 2008)​\n",
        "Talulah Riley\n",
        "​\n",
        "​(m. 2010; div. 2012)​\n",
        "​\n",
        "​(m. 2013; div. 2016)\n",
        "'''\n"
      ],
      "metadata": {
        "id": "OmPeFmVUv0TK"
      },
      "execution_count": 7,
      "outputs": []
    },
    {
      "cell_type": "code",
      "source": [
        "print(\"Age:\")\n",
        "pattern = \"Born.*\\n(.*)\\(age\"\n",
        "matches = re.findall(pattern,text)\n",
        "print(matches)"
      ],
      "metadata": {
        "colab": {
          "base_uri": "https://localhost:8080/"
        },
        "id": "rfCgkes_wxKh",
        "outputId": "5aba1232-df7b-4dba-dc17-61fcb85fc196"
      },
      "execution_count": 17,
      "outputs": [
        {
          "output_type": "stream",
          "name": "stdout",
          "text": [
            "Age:\n",
            "['June 28, 1971 ']\n"
          ]
        }
      ]
    },
    {
      "cell_type": "code",
      "source": [],
      "metadata": {
        "id": "rQe3VvTJxErg"
      },
      "execution_count": null,
      "outputs": []
    }
  ],
  "metadata": {
    "colab": {
      "provenance": [],
      "authorship_tag": "ABX9TyOVd6VOdNS2oBkT4BJomyn8",
      "include_colab_link": true
    },
    "kernelspec": {
      "display_name": "Python 3",
      "name": "python3"
    },
    "language_info": {
      "name": "python"
    }
  },
  "nbformat": 4,
  "nbformat_minor": 0
}