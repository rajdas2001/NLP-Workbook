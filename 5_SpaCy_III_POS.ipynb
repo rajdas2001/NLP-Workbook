{
  "nbformat": 4,
  "nbformat_minor": 0,
  "metadata": {
    "colab": {
      "provenance": [],
      "authorship_tag": "ABX9TyMLyXoATJ/dZE46LCwEkgBO",
      "include_colab_link": true
    },
    "kernelspec": {
      "name": "python3",
      "display_name": "Python 3"
    },
    "language_info": {
      "name": "python"
    }
  },
  "cells": [
    {
      "cell_type": "markdown",
      "metadata": {
        "id": "view-in-github",
        "colab_type": "text"
      },
      "source": [
        "<a href=\"https://colab.research.google.com/github/rajdas2001/NLP-Workbook/blob/main/5_SpaCy_III_POS.ipynb\" target=\"_parent\"><img src=\"https://colab.research.google.com/assets/colab-badge.svg\" alt=\"Open In Colab\"/></a>"
      ]
    },
    {
      "cell_type": "code",
      "execution_count": 37,
      "metadata": {
        "colab": {
          "base_uri": "https://localhost:8080/"
        },
        "id": "Dg7oRh8W9iDv",
        "outputId": "d72b0a2b-5a2c-4a20-ed7b-8cd8f443c78e"
      },
      "outputs": [
        {
          "output_type": "stream",
          "name": "stdout",
          "text": [
            "Elon --> PROPN : proper noun\n",
            "flew --> VERB : verb\n",
            "to --> ADP : adposition\n",
            "Mars --> PROPN : proper noun\n",
            "yesterday --> NOUN : noun\n",
            ". --> PUNCT : punctuation\n",
            "He --> PRON : pronoun\n",
            "packed --> VERB : verb\n",
            "biryani --> ADJ : adjective\n",
            "masala --> NOUN : noun\n",
            "with --> ADP : adposition\n",
            "him --> PRON : pronoun\n",
            ". --> PUNCT : punctuation\n"
          ]
        }
      ],
      "source": [
        "import spacy\n",
        "\n",
        "nlp = spacy.load(\"en_core_web_sm\")\n",
        "\n",
        "doc = nlp(\"Elon flew to Mars yesterday. He packed biryani masala with him.\")\n",
        "\n",
        "for token in doc:\n",
        "  print(token, \"-->\", token.pos_, \":\",spacy.explain(token.pos_))"
      ]
    },
    {
      "cell_type": "code",
      "source": [
        "import spacy\n",
        "\n",
        "doc = nlp(\"Elon flew to Mars yesterday. He packed biryani masala with him.\")\n",
        "\n",
        "for token in doc:\n",
        "  print(token, \"-->\", token.pos_, \":\",spacy.explain(token.tag_))"
      ],
      "metadata": {
        "colab": {
          "base_uri": "https://localhost:8080/"
        },
        "id": "1AkqsQZk-UQQ",
        "outputId": "8762bbf2-470f-4051-fa5a-0353755ba8f2"
      },
      "execution_count": 38,
      "outputs": [
        {
          "output_type": "stream",
          "name": "stdout",
          "text": [
            "Elon --> PROPN : noun, proper singular\n",
            "flew --> VERB : verb, past tense\n",
            "to --> ADP : conjunction, subordinating or preposition\n",
            "Mars --> PROPN : noun, proper singular\n",
            "yesterday --> NOUN : noun, singular or mass\n",
            ". --> PUNCT : punctuation mark, sentence closer\n",
            "He --> PRON : pronoun, personal\n",
            "packed --> VERB : verb, past tense\n",
            "biryani --> ADJ : adjective (English), other noun-modifier (Chinese)\n",
            "masala --> NOUN : noun, singular or mass\n",
            "with --> ADP : conjunction, subordinating or preposition\n",
            "him --> PRON : pronoun, personal\n",
            ". --> PUNCT : punctuation mark, sentence closer\n"
          ]
        }
      ]
    },
    {
      "cell_type": "code",
      "source": [
        "doc = nlp(\"Wow! Dr. Strange made 265 million $ on the very first day\")\n",
        "\n",
        "for token in doc:\n",
        "    print(token,\" | \", token.pos_, \" | \", spacy.explain(token.pos_), \" | \", token.tag_, \" | \", spacy.explain(token.tag_))"
      ],
      "metadata": {
        "colab": {
          "base_uri": "https://localhost:8080/"
        },
        "id": "HKCYrhCI_9ay",
        "outputId": "09e5e998-649c-418f-e385-0f3f616f6d44"
      },
      "execution_count": 39,
      "outputs": [
        {
          "output_type": "stream",
          "name": "stdout",
          "text": [
            "Wow  |  INTJ  |  interjection  |  UH  |  interjection\n",
            "!  |  PUNCT  |  punctuation  |  .  |  punctuation mark, sentence closer\n",
            "Dr.  |  PROPN  |  proper noun  |  NNP  |  noun, proper singular\n",
            "Strange  |  PROPN  |  proper noun  |  NNP  |  noun, proper singular\n",
            "made  |  VERB  |  verb  |  VBD  |  verb, past tense\n",
            "265  |  NUM  |  numeral  |  CD  |  cardinal number\n",
            "million  |  NUM  |  numeral  |  CD  |  cardinal number\n",
            "$  |  NUM  |  numeral  |  CD  |  cardinal number\n",
            "on  |  ADP  |  adposition  |  IN  |  conjunction, subordinating or preposition\n",
            "the  |  DET  |  determiner  |  DT  |  determiner\n",
            "very  |  ADV  |  adverb  |  RB  |  adverb\n",
            "first  |  ADJ  |  adjective  |  JJ  |  adjective (English), other noun-modifier (Chinese)\n",
            "day  |  NOUN  |  noun  |  NN  |  noun, singular or mass\n"
          ]
        }
      ]
    },
    {
      "cell_type": "code",
      "source": [
        "doc = nlp(\"He quits the job\")\n",
        "\n",
        "print(doc[1].text, \"|\", doc[1].tag_, \"|\", spacy.explain(doc[1].tag_))"
      ],
      "metadata": {
        "colab": {
          "base_uri": "https://localhost:8080/"
        },
        "id": "0OBX-X2eCCqR",
        "outputId": "f6726770-90e9-4675-8178-a806f0f6a3c0"
      },
      "execution_count": 40,
      "outputs": [
        {
          "output_type": "stream",
          "name": "stdout",
          "text": [
            "quits | VBZ | verb, 3rd person singular present\n"
          ]
        }
      ]
    },
    {
      "cell_type": "code",
      "source": [
        "doc = nlp(\"he quit the job\")\n",
        "\n",
        "print(doc[1].text, \"|\", doc[1].tag_, \"|\", spacy.explain(doc[1].tag_))"
      ],
      "metadata": {
        "colab": {
          "base_uri": "https://localhost:8080/"
        },
        "id": "yuX9OvR5CiI-",
        "outputId": "2790f9d6-f6f2-4111-abd8-4091beb34821"
      },
      "execution_count": 41,
      "outputs": [
        {
          "output_type": "stream",
          "name": "stdout",
          "text": [
            "quit | VBD | verb, past tense\n"
          ]
        }
      ]
    },
    {
      "cell_type": "code",
      "source": [
        "earnings_text=\"\"\"Microsoft Corp. today announced the following results for the quarter ended December 31, 2021, as compared to the corresponding period of last fiscal year:\n",
        "\n",
        "·         Revenue was $51.7 billion and increased 20%\n",
        "·         Operating income was $22.2 billion and increased 24%\n",
        "·         Net income was $18.8 billion and increased 21%\n",
        "·         Diluted earnings per share was $2.48 and increased 22%\n",
        "“Digital technology is the most malleable resource at the world’s disposal to overcome constraints and reimagine everyday work and life,” said Satya Nadella, chairman and chief executive officer of Microsoft. “As tech as a percentage of global GDP continues to increase, we are innovating and investing across diverse and growing markets, with a common underlying technology stack and an operating model that reinforces a common strategy, culture, and sense of purpose.”\n",
        "“Solid commercial execution, represented by strong bookings growth driven by long-term Azure commitments, increased Microsoft Cloud revenue to $22.1 billion, up 32% year over year” said Amy Hood, executive vice president and chief financial officer of Microsoft.\"\"\"\n",
        "\n",
        "doc = nlp(earnings_text)\n",
        "\n",
        "filtered_tokens = []\n",
        "\n",
        "for token in doc:\n",
        "    if token.pos_ not in [\"SPACE\", \"PUNCT\", \"X\"]:\n",
        "        filtered_tokens.append(token)\n",
        "\n",
        "filtered_tokens[:20]"
      ],
      "metadata": {
        "colab": {
          "base_uri": "https://localhost:8080/"
        },
        "id": "VknlTVduCirk",
        "outputId": "a98edf6c-17ae-45a1-a9b7-20ffbf020316"
      },
      "execution_count": 42,
      "outputs": [
        {
          "output_type": "execute_result",
          "data": {
            "text/plain": [
              "[Microsoft,\n",
              " Corp.,\n",
              " today,\n",
              " announced,\n",
              " the,\n",
              " following,\n",
              " results,\n",
              " for,\n",
              " the,\n",
              " quarter,\n",
              " ended,\n",
              " December,\n",
              " 31,\n",
              " 2021,\n",
              " as,\n",
              " compared,\n",
              " to,\n",
              " the,\n",
              " corresponding,\n",
              " period]"
            ]
          },
          "metadata": {},
          "execution_count": 42
        }
      ]
    },
    {
      "cell_type": "code",
      "source": [
        "count = doc.count_by(spacy.attrs.POS)\n",
        "count"
      ],
      "metadata": {
        "colab": {
          "base_uri": "https://localhost:8080/"
        },
        "id": "jplM-YrAD0j1",
        "outputId": "97e32f45-e6a1-49e3-cbb1-2414c35ff27d"
      },
      "execution_count": 43,
      "outputs": [
        {
          "output_type": "execute_result",
          "data": {
            "text/plain": [
              "{96: 13,\n",
              " 92: 46,\n",
              " 100: 24,\n",
              " 90: 9,\n",
              " 85: 16,\n",
              " 93: 16,\n",
              " 97: 27,\n",
              " 98: 1,\n",
              " 84: 20,\n",
              " 103: 10,\n",
              " 87: 6,\n",
              " 99: 5,\n",
              " 89: 12,\n",
              " 86: 3,\n",
              " 94: 3,\n",
              " 95: 2}"
            ]
          },
          "metadata": {},
          "execution_count": 43
        }
      ]
    },
    {
      "cell_type": "code",
      "source": [
        "for k,v in count.items():\n",
        "    print(doc.vocab[k].text, \"|\",v)"
      ],
      "metadata": {
        "colab": {
          "base_uri": "https://localhost:8080/"
        },
        "id": "E_Eq5A2NVXUU",
        "outputId": "e7776263-6e6e-407a-aaff-338e026741e9"
      },
      "execution_count": 44,
      "outputs": [
        {
          "output_type": "stream",
          "name": "stdout",
          "text": [
            "PROPN | 13\n",
            "NOUN | 46\n",
            "VERB | 24\n",
            "DET | 9\n",
            "ADP | 16\n",
            "NUM | 16\n",
            "PUNCT | 27\n",
            "SCONJ | 1\n",
            "ADJ | 20\n",
            "SPACE | 10\n",
            "AUX | 6\n",
            "SYM | 5\n",
            "CCONJ | 12\n",
            "ADV | 3\n",
            "PART | 3\n",
            "PRON | 2\n"
          ]
        }
      ]
    },
    {
      "cell_type": "markdown",
      "source": [
        "Exercise for Spacy POS tutorial,\n",
        "\n",
        "You are parsing a news story from cnbc.com. News story is stores in news_story.txt which is available in this same folder on github. You need to,\n",
        "1. Extract all NOUN tokens from this story. You will have to read the file in python first to collect all the text and then extract NOUNs in a python list\n",
        "2. Extract all numbers (NUM POS type) in a python list\n",
        "3. Print a count of all POS tags in this story\n",
        "\n",
        "Dataset: https://github.com/codebasics/nlp-tutorials/blob/main/7_pos/news_story.txt"
      ],
      "metadata": {
        "id": "OAcQEIW2bajQ"
      }
    },
    {
      "cell_type": "code",
      "source": [
        "#1.\n",
        "with open(\"news_story.txt\", \"r\") as f:\n",
        "  contents = f.read()\n",
        "\n",
        "contents"
      ],
      "metadata": {
        "colab": {
          "base_uri": "https://localhost:8080/",
          "height": 163
        },
        "id": "QTDR4dEKb-wM",
        "outputId": "9455b755-5779-4245-ed07-a812481d1691"
      },
      "execution_count": 45,
      "outputs": [
        {
          "output_type": "execute_result",
          "data": {
            "text/plain": [
              "'Inflation rose again in April, continuing a climb that has pushed consumers to the brink and is threatening the economic expansion, the Bureau of Labor Statistics reported Wednesday.\\n\\nThe consumer price index, a broad-based measure of prices for goods and services, increased 8.3% from a year ago, higher than the Dow Jones estimate for an 8.1% gain. That represented a slight ease from March’s peak but was still close to the highest level since the summer of 1982.\\n\\nRemoving volatile food and energy prices, so-called core CPI still rose 6.2%, against expectations for a 6% gain, clouding hopes that inflation had peaked in March.\\n\\nThe month-over-month gains also were higher than expectations — 0.3% on headline CPI versus the 0.2% estimate and a 0.6% increase for core, against the outlook for a 0.4% gain.\\n\\nThe price gains also meant that workers continued to lose ground. Real wages adjusted for inflation decreased 0.1% on the month despite a nominal increase of 0.3% in average hourly earnings. Over the past year, real earnings have dropped 2.6% even though average hourly earnings are up 5.5%.\\n\\nInflation has been the single biggest threat to a recovery that began early in the Covid pandemic and saw the economy in 2021 stage its biggest single-year growth level since 1984. Rising prices at the pump and in grocery stores have been one problem, but inflation has spread beyond those two areas into housing, auto sales and a host of other areas.\\n\\nFederal Reserve officials have responded to the problem with two interest rate hikes so far this year and pledges of more until inflation comes down to the central bank’s 2% goal. However, Wednesday’s data shows that the Fed has a big job ahead.\\n\\nCredits: cnbc.com'"
            ],
            "application/vnd.google.colaboratory.intrinsic+json": {
              "type": "string"
            }
          },
          "metadata": {},
          "execution_count": 45
        }
      ]
    },
    {
      "cell_type": "code",
      "source": [
        "doc = nlp(contents)\n",
        "nouns = []\n",
        "for tokens in doc:\n",
        "  if tokens.pos_ == \"NOUN\":\n",
        "    nouns.append(tokens)\n",
        "nouns"
      ],
      "metadata": {
        "colab": {
          "base_uri": "https://localhost:8080/"
        },
        "id": "u5jicNtQcdMW",
        "outputId": "d86edc9b-855e-4b05-babf-eb890c6fbab2"
      },
      "execution_count": 46,
      "outputs": [
        {
          "output_type": "execute_result",
          "data": {
            "text/plain": [
              "[Inflation,\n",
              " climb,\n",
              " consumers,\n",
              " brink,\n",
              " expansion,\n",
              " consumer,\n",
              " price,\n",
              " index,\n",
              " measure,\n",
              " prices,\n",
              " goods,\n",
              " services,\n",
              " %,\n",
              " year,\n",
              " estimate,\n",
              " %,\n",
              " gain,\n",
              " ease,\n",
              " peak,\n",
              " level,\n",
              " summer,\n",
              " food,\n",
              " energy,\n",
              " prices,\n",
              " core,\n",
              " %,\n",
              " expectations,\n",
              " %,\n",
              " gain,\n",
              " hopes,\n",
              " inflation,\n",
              " month,\n",
              " month,\n",
              " gains,\n",
              " expectations,\n",
              " %,\n",
              " headline,\n",
              " %,\n",
              " estimate,\n",
              " %,\n",
              " increase,\n",
              " core,\n",
              " outlook,\n",
              " %,\n",
              " gain,\n",
              " price,\n",
              " gains,\n",
              " workers,\n",
              " ground,\n",
              " wages,\n",
              " inflation,\n",
              " %,\n",
              " month,\n",
              " increase,\n",
              " %,\n",
              " earnings,\n",
              " year,\n",
              " earnings,\n",
              " %,\n",
              " earnings,\n",
              " %,\n",
              " Inflation,\n",
              " threat,\n",
              " recovery,\n",
              " pandemic,\n",
              " economy,\n",
              " stage,\n",
              " year,\n",
              " growth,\n",
              " level,\n",
              " prices,\n",
              " pump,\n",
              " grocery,\n",
              " stores,\n",
              " problem,\n",
              " inflation,\n",
              " areas,\n",
              " housing,\n",
              " auto,\n",
              " sales,\n",
              " host,\n",
              " areas,\n",
              " officials,\n",
              " problem,\n",
              " interest,\n",
              " rate,\n",
              " hikes,\n",
              " year,\n",
              " pledges,\n",
              " inflation,\n",
              " bank,\n",
              " %,\n",
              " goal,\n",
              " data,\n",
              " job,\n",
              " Credits]"
            ]
          },
          "metadata": {},
          "execution_count": 46
        }
      ]
    },
    {
      "cell_type": "code",
      "source": [
        "#2\n",
        "nums = []\n",
        "for tokens in doc:\n",
        "  if tokens.pos_ == \"NUM\":\n",
        "    nums.append(tokens)\n",
        "nums"
      ],
      "metadata": {
        "colab": {
          "base_uri": "https://localhost:8080/"
        },
        "id": "cFGYhe_BcrXr",
        "outputId": "3e4b9375-76dd-40f0-bdcb-4a6626d728a4"
      },
      "execution_count": 47,
      "outputs": [
        {
          "output_type": "execute_result",
          "data": {
            "text/plain": [
              "[8.3,\n",
              " 8.1,\n",
              " 1982,\n",
              " 6.2,\n",
              " 6,\n",
              " 0.3,\n",
              " 0.2,\n",
              " 0.6,\n",
              " 0.4,\n",
              " 0.1,\n",
              " 0.3,\n",
              " 2.6,\n",
              " 5.5,\n",
              " 2021,\n",
              " 1984,\n",
              " one,\n",
              " two,\n",
              " two,\n",
              " 2]"
            ]
          },
          "metadata": {},
          "execution_count": 47
        }
      ]
    },
    {
      "cell_type": "code",
      "source": [
        "#3\n",
        "count = doc.count_by(spacy.attrs.POS)\n",
        "count"
      ],
      "metadata": {
        "colab": {
          "base_uri": "https://localhost:8080/"
        },
        "id": "L8WJGUXgdBsh",
        "outputId": "0e281c07-ef8b-40e7-d605-7e68c897768c"
      },
      "execution_count": 48,
      "outputs": [
        {
          "output_type": "execute_result",
          "data": {
            "text/plain": [
              "{92: 96,\n",
              " 100: 27,\n",
              " 86: 15,\n",
              " 85: 39,\n",
              " 96: 16,\n",
              " 97: 32,\n",
              " 90: 34,\n",
              " 95: 4,\n",
              " 87: 13,\n",
              " 89: 10,\n",
              " 84: 23,\n",
              " 103: 7,\n",
              " 93: 19,\n",
              " 94: 4,\n",
              " 98: 8,\n",
              " 101: 1}"
            ]
          },
          "metadata": {},
          "execution_count": 48
        }
      ]
    },
    {
      "cell_type": "code",
      "source": [
        "for k,v in count.items():\n",
        "    print(doc.vocab[k].text, \"|\",v)"
      ],
      "metadata": {
        "colab": {
          "base_uri": "https://localhost:8080/"
        },
        "id": "segCJErRdYRS",
        "outputId": "8d5172c7-59e8-47bf-80ec-6637ae7f24d5"
      },
      "execution_count": 49,
      "outputs": [
        {
          "output_type": "stream",
          "name": "stdout",
          "text": [
            "NOUN | 96\n",
            "VERB | 27\n",
            "ADV | 15\n",
            "ADP | 39\n",
            "PROPN | 16\n",
            "PUNCT | 32\n",
            "DET | 34\n",
            "PRON | 4\n",
            "AUX | 13\n",
            "CCONJ | 10\n",
            "ADJ | 23\n",
            "SPACE | 7\n",
            "NUM | 19\n",
            "PART | 4\n",
            "SCONJ | 8\n",
            "X | 1\n"
          ]
        }
      ]
    }
  ]
}